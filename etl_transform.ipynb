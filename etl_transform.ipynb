{
 "cells": [
  {
   "cell_type": "code",
   "execution_count": 1,
   "id": "4aa71b1d",
   "metadata": {},
   "outputs": [],
   "source": [
    "# loading the data\n",
    "import pandas as pd\n",
    "\n",
    "raw_data = pd.read_csv(r\"C:\\Users\\rosel\\Downloads\\ETL_Midterm_Ziza_613\\raw_data.csv\")\n",
    "incremental_data = pd.read_csv(r\"C:\\Users\\rosel\\Downloads\\ETL_Midterm_Ziza_613\\incremental_data.csv\")\n"
   ]
  },
  {
   "cell_type": "code",
   "execution_count": 2,
   "id": "c23f9bf7",
   "metadata": {},
   "outputs": [],
   "source": [
    "import os\n",
    "\n",
    "# 1. Cleaning: Fill missing 'quantity' and 'unit_price' with 0, fill missing 'region' and 'customer_name' with 'Unknown'\n",
    "def clean_data(df):\n",
    "    df = df.copy()\n",
    "    df['quantity'] = df['quantity'].fillna(0)\n",
    "    df['unit_price'] = df['unit_price'].fillna(0)\n",
    "    df['region'] = df['region'].fillna('Unknown')\n",
    "    df['customer_name'] = df['customer_name'].fillna('Unknown')\n",
    "    return df\n",
    "\n",
    "# 2. Enrichment: Add 'total_price' column\n",
    "def enrich_data(df):\n",
    "    df = df.copy()\n",
    "    df['total_price'] = df['quantity'] * df['unit_price']\n",
    "    return df\n",
    "\n",
    "# 3. Structural: Convert 'order_date' to datetime\n",
    "def convert_dates(df):\n",
    "    df = df.copy()\n",
    "    df['order_date'] = pd.to_datetime(df['order_date'], errors='coerce')\n",
    "    return df\n",
    "\n",
    "# 4. Categorization: Create 'order_size' category based on quantity\n",
    "def categorize_order_size(df):\n",
    "    df = df.copy()\n",
    "    df['order_size'] = pd.cut(df['quantity'], bins=[-0.1, 0, 1, 3, float('inf')], labels=['None', 'Small', 'Medium', 'Large'])\n",
    "    return df\n",
    "\n",
    "def transform(df):\n",
    "    df = clean_data(df)\n",
    "    df = enrich_data(df)\n",
    "    df = convert_dates(df)\n",
    "    df = categorize_order_size(df)\n",
    "    df = df.drop_duplicates()\n",
    "    return df\n",
    "\n",
    "# Apply transformations\n",
    "transformed_full = transform(raw_data)\n",
    "transformed_incremental = transform(incremental_data)\n",
    "\n",
    "# Ensure output directory exists\n",
    "os.makedirs('transformed', exist_ok=True)\n",
    "\n",
    "# Save to CSV\n",
    "transformed_full.to_csv('transformed/transformed_full.csv', index=False)\n",
    "transformed_incremental.to_csv('transformed/transformed_incremental.csv', index=False)"
   ]
  },
  {
   "cell_type": "code",
   "execution_count": 7,
   "id": "6685b118",
   "metadata": {},
   "outputs": [
    {
     "name": "stdout",
     "output_type": "stream",
     "text": [
      "Cleaning Step:\n",
      "Before:\n",
      "   quantity  unit_price   region customer_name\n",
      "0       NaN       900.0  Central         Alice\n",
      "1       1.0       300.0  Central           NaN\n",
      "2       1.0       600.0  Central           NaN\n",
      "3       NaN       300.0  Central           NaN\n",
      "4       2.0       600.0    North         Heidi\n",
      "5       2.0       600.0  Central           NaN\n",
      "6       1.0       600.0  Central           NaN\n",
      "7       NaN       600.0      NaN           NaN\n",
      "8       2.0       600.0  Central         Grace\n",
      "9       NaN       900.0      NaN         Heidi\n",
      "\n",
      "After:\n",
      "   quantity  unit_price   region customer_name\n",
      "0       0.0       900.0  Central         Alice\n",
      "1       1.0       300.0  Central       Unknown\n",
      "2       1.0       600.0  Central       Unknown\n",
      "3       0.0       300.0  Central       Unknown\n",
      "4       2.0       600.0    North         Heidi\n",
      "5       2.0       600.0  Central       Unknown\n",
      "6       1.0       600.0  Central       Unknown\n",
      "7       0.0       600.0  Unknown       Unknown\n",
      "8       2.0       600.0  Central         Grace\n",
      "9       0.0       900.0  Unknown         Heidi\n",
      "\n",
      "Explanation: Missing values in 'quantity' and 'unit_price' are filled with 0 to avoid calculation errors. Missing 'region' and 'customer_name' are filled with 'Unknown' for consistency.\n"
     ]
    }
   ],
   "source": [
    "# Show before and after for each transformation on incremental_data\n",
    "\n",
    "# 1. Cleaning: Fill missing 'quantity' and 'unit_price' with 0, fill missing 'region' and 'customer_name' with 'Unknown'\n",
    "print(\"Cleaning Step:\")\n",
    "print(\"Before:\")\n",
    "print(incremental_data[['quantity', 'unit_price', 'region', 'customer_name']])\n",
    "\n",
    "cleaned = clean_data(incremental_data)\n",
    "print(\"\\nAfter:\")\n",
    "print(cleaned[['quantity', 'unit_price', 'region', 'customer_name']])\n",
    "print(\"\\nExplanation: Missing values in 'quantity' and 'unit_price' are filled with 0 to avoid calculation errors. Missing 'region' and 'customer_name' are filled with 'Unknown' for consistency.\")\n",
    "\n"
   ]
  },
  {
   "cell_type": "code",
   "execution_count": null,
   "id": "019a7909",
   "metadata": {},
   "outputs": [
    {
     "name": "stdout",
     "output_type": "stream",
     "text": [
      "\n",
      "Structural Step:\n",
      "Before:\n",
      "0    2024-05-09\n",
      "1    2024-05-07\n",
      "2    2024-05-04\n",
      "Name: order_date, dtype: object\n",
      "\n",
      "After:\n",
      "0   2024-05-09\n",
      "1   2024-05-07\n",
      "2   2024-05-04\n",
      "Name: order_date, dtype: datetime64[ns]\n",
      "\n",
      "Explanation: 'order_date' is converted to datetime for proper date handling and analysis.\n"
     ]
    }
   ],
   "source": [
    "# 2. Structural: Convert 'order_date' to datetime\n",
    "print(\"\\nStructural Step:\")\n",
    "print(\"Before:\")\n",
    "print(enriched['order_date'].head(3))\n",
    "\n",
    "converted = convert_dates(enriched)\n",
    "print(\"\\nAfter:\")\n",
    "print(converted['order_date'].head(3))\n",
    "print(\"\\nExplanation: 'order_date' is converted to datetime for proper date handling and analysis.\")\n"
   ]
  },
  {
   "cell_type": "code",
   "execution_count": null,
   "id": "edd916e5",
   "metadata": {},
   "outputs": [
    {
     "name": "stdout",
     "output_type": "stream",
     "text": [
      "\n",
      "Enrichment Step:\n",
      "Before:\n",
      "   order_id customer_name product  quantity  unit_price  order_date   region\n",
      "0       101         Alice  Laptop       0.0       900.0  2024-05-09  Central\n",
      "1       102       Unknown  Laptop       1.0       300.0  2024-05-07  Central\n",
      "2       103       Unknown  Laptop       1.0       600.0  2024-05-04  Central\n",
      "\n",
      "After:\n",
      "   order_id customer_name product  quantity  unit_price  order_date   region  \\\n",
      "0       101         Alice  Laptop       0.0       900.0  2024-05-09  Central   \n",
      "1       102       Unknown  Laptop       1.0       300.0  2024-05-07  Central   \n",
      "2       103       Unknown  Laptop       1.0       600.0  2024-05-04  Central   \n",
      "\n",
      "   total_price  \n",
      "0          0.0  \n",
      "1        300.0  \n",
      "2        600.0  \n",
      "\n",
      "Explanation: 'total_price' column is added as quantity * unit_price to provide order value.\n"
     ]
    }
   ],
   "source": [
    "# 3. Enrichment: Add 'total_price' column\n",
    "print(\"\\nEnrichment Step:\")\n",
    "print(\"Before:\")\n",
    "print(cleaned.head(3))\n",
    "\n",
    "enriched = enrich_data(cleaned)\n",
    "print(\"\\nAfter:\")\n",
    "print(enriched.head(3))\n",
    "print(\"\\nExplanation: 'total_price' column is added as quantity * unit_price to provide order value.\")"
   ]
  },
  {
   "cell_type": "code",
   "execution_count": 6,
   "id": "3c85f693",
   "metadata": {},
   "outputs": [
    {
     "name": "stdout",
     "output_type": "stream",
     "text": [
      "\n",
      "Categorization Step:\n",
      "Before:\n",
      "   quantity\n",
      "0       0.0\n",
      "1       1.0\n",
      "2       1.0\n",
      "3       0.0\n",
      "4       2.0\n",
      "\n",
      "After:\n",
      "   quantity order_size\n",
      "0       0.0       None\n",
      "1       1.0      Small\n",
      "2       1.0      Small\n",
      "3       0.0       None\n",
      "4       2.0     Medium\n",
      "\n",
      "Explanation: 'order_size' categorizes orders as None, Small, Medium, or Large based on quantity for easier analysis.\n"
     ]
    }
   ],
   "source": [
    "# 4. Categorization: Create 'order_size' category based on quantity\n",
    "print(\"\\nCategorization Step:\")\n",
    "print(\"Before:\")\n",
    "print(converted[['quantity']].head(5))\n",
    "\n",
    "categorized = categorize_order_size(converted)\n",
    "print(\"\\nAfter:\")\n",
    "print(categorized[['quantity', 'order_size']].head(5))\n",
    "print(\"\\nExplanation: 'order_size' categorizes orders as None, Small, Medium, or Large based on quantity for easier analysis.\")"
   ]
  },
  {
   "cell_type": "code",
   "execution_count": null,
   "id": "7b21991b",
   "metadata": {},
   "outputs": [],
   "source": []
  }
 ],
 "metadata": {
  "kernelspec": {
   "display_name": "Python 3",
   "language": "python",
   "name": "python3"
  },
  "language_info": {
   "codemirror_mode": {
    "name": "ipython",
    "version": 3
   },
   "file_extension": ".py",
   "mimetype": "text/x-python",
   "name": "python",
   "nbconvert_exporter": "python",
   "pygments_lexer": "ipython3",
   "version": "3.11.9"
  }
 },
 "nbformat": 4,
 "nbformat_minor": 5
}
