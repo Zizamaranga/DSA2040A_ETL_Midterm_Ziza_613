{
 "cells": [
  {
   "cell_type": "code",
   "execution_count": 3,
   "id": "3d858343",
   "metadata": {},
   "outputs": [
    {
     "name": "stdout",
     "output_type": "stream",
     "text": [
      "   order_id customer_name product  quantity  unit_price  order_date   region  \\\n",
      "0         1         Diana  Tablet       0.0       500.0  2024-01-20    South   \n",
      "1         2           Eve  Laptop       0.0         0.0  2024-04-29    North   \n",
      "2         3       Charlie  Laptop       2.0       250.0  2024-01-08  Unknown   \n",
      "3         4           Eve  Laptop       2.0       750.0  2024-01-07     West   \n",
      "4         5           Eve  Tablet       3.0         0.0  2024-03-07    South   \n",
      "\n",
      "   total_price order_size  \n",
      "0          0.0       None  \n",
      "1          0.0       None  \n",
      "2        500.0     Medium  \n",
      "3       1500.0     Medium  \n",
      "4          0.0     Medium  \n"
     ]
    }
   ],
   "source": [
    "\n",
    "import pandas as pd\n",
    "\n",
    "# Paths\n",
    "full_df = pd.read_csv(r\"C:\\Users\\rosel\\Downloads\\ETL_Midterm_Ziza_613\\transformed\\transformed_full.csv\")\n",
    "incr_df = pd.read_csv(r\"C:\\Users\\rosel\\Downloads\\ETL_Midterm_Ziza_613\\transformed\\transformed_incremental.csv\")\n",
    "\n",
    "# Save to parquet\n",
    "full_df.to_parquet('loaded/full_data.parquet', index=False)\n",
    "incr_df.to_parquet('loaded/incremental_data.parquet', index=False)\n",
    "\n",
    "# Preview the full data\n",
    "preview_full = pd.read_parquet('loaded/full_data.parquet')\n",
    "print(preview_full.head())\n",
    "\n"
   ]
  }
 ],
 "metadata": {
  "kernelspec": {
   "display_name": "Python 3",
   "language": "python",
   "name": "python3"
  },
  "language_info": {
   "codemirror_mode": {
    "name": "ipython",
    "version": 3
   },
   "file_extension": ".py",
   "mimetype": "text/x-python",
   "name": "python",
   "nbconvert_exporter": "python",
   "pygments_lexer": "ipython3",
   "version": "3.11.9"
  }
 },
 "nbformat": 4,
 "nbformat_minor": 5
}
